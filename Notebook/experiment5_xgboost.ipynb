{
 "cells": [
  {
   "cell_type": "code",
   "execution_count": 1,
   "metadata": {},
   "outputs": [],
   "source": [
    "from sklearn.feature_extraction.text import TfidfVectorizer\n",
    "from xgboost import XGBClassifier\n",
    "from sklearn.model_selection import train_test_split\n",
    "from sklearn.metrics import accuracy_score, classification_report, confusion_matrix\n",
    "from imblearn.over_sampling import SMOTE\n",
    "import mlflow\n",
    "import optuna\n",
    "import mlflow.sklearn\n",
    "import matplotlib.pyplot as plt\n",
    "import seaborn as sns\n",
    "import pandas as pd\n",
    "import os"
   ]
  },
  {
   "cell_type": "code",
   "execution_count": 2,
   "metadata": {},
   "outputs": [],
   "source": [
    "import mlflow\n",
    "#Set up the MLflow tracking server\n",
    "mlflow.set_tracking_uri('http://ec2-54-173-92-7.compute-1.amazonaws.com:5000/')"
   ]
  },
  {
   "cell_type": "code",
   "execution_count": 3,
   "metadata": {},
   "outputs": [
    {
     "data": {
      "text/plain": [
       "<Experiment: artifact_location='s3://youtubecommentmlflow/149143573475036011', creation_time=1741969037519, experiment_id='149143573475036011', last_update_time=1741969037519, lifecycle_stage='active', name='Exp5: ML Algos with Hyperparameter tuning', tags={}>"
      ]
     },
     "execution_count": 3,
     "metadata": {},
     "output_type": "execute_result"
    }
   ],
   "source": [
    "# Set or create an experiment\n",
    "mlflow.set_experiment(\"Exp5: ML Algos with Hyperparameter tuning\")"
   ]
  },
  {
   "cell_type": "code",
   "execution_count": null,
   "metadata": {},
   "outputs": [
    {
     "data": {
      "text/plain": [
       "(15833, 2)"
      ]
     },
     "execution_count": 4,
     "metadata": {},
     "output_type": "execute_result"
    }
   ],
   "source": [
    "df = pd.read_csv('C:/test/youtube_comment_sentiment_analysis/Artifacts/youtubecomment_preprocessing.csv')\n",
    "df.shape"
   ]
  },
  {
   "cell_type": "code",
   "execution_count": null,
   "metadata": {},
   "outputs": [
    {
     "name": "stderr",
     "output_type": "stream",
     "text": [
      "[I 2025-03-14 22:30:37,169] A new study created in memory with name: no-name-d51fecf4-9c78-45f6-9d19-dd59c9d28b06\n",
      "[I 2025-03-14 22:32:00,186] Trial 0 finished with value: 0.4704767919166404 and parameters: {'n_estimators': 259, 'learning_rate': 0.00015557248069403339, 'max_depth': 4}. Best is trial 0 with value: 0.4704767919166404.\n",
      "[I 2025-03-14 22:33:24,338] Trial 1 finished with value: 0.5648879065361541 and parameters: {'n_estimators': 101, 'learning_rate': 0.0012132948481815404, 'max_depth': 10}. Best is trial 1 with value: 0.5648879065361541.\n",
      "[I 2025-03-14 22:36:06,459] Trial 2 finished with value: 0.6510893590148406 and parameters: {'n_estimators': 285, 'learning_rate': 0.02238137488721406, 'max_depth': 7}. Best is trial 2 with value: 0.6510893590148406.\n",
      "[I 2025-03-14 22:38:00,255] Trial 3 finished with value: 0.5131038838017051 and parameters: {'n_estimators': 196, 'learning_rate': 0.0017840097133948432, 'max_depth': 6}. Best is trial 2 with value: 0.6510893590148406.\n",
      "[I 2025-03-14 22:38:48,260] Trial 4 finished with value: 0.47331859804231136 and parameters: {'n_estimators': 103, 'learning_rate': 0.001255475244708869, 'max_depth': 4}. Best is trial 2 with value: 0.6510893590148406.\n",
      "[I 2025-03-14 22:39:32,673] Trial 5 finished with value: 0.6053047047679192 and parameters: {'n_estimators': 67, 'learning_rate': 0.040267682020537765, 'max_depth': 7}. Best is trial 2 with value: 0.6510893590148406.\n",
      "[I 2025-03-14 22:43:04,120] Trial 6 finished with value: 0.5487843384906852 and parameters: {'n_estimators': 262, 'learning_rate': 0.0012647305280314484, 'max_depth': 8}. Best is trial 2 with value: 0.6510893590148406.\n",
      "[I 2025-03-14 22:47:37,323] Trial 7 finished with value: 0.5642563940637828 and parameters: {'n_estimators': 246, 'learning_rate': 0.0001843450518129796, 'max_depth': 10}. Best is trial 2 with value: 0.6510893590148406.\n",
      "[I 2025-03-14 22:49:03,127] Trial 8 finished with value: 0.481212503946953 and parameters: {'n_estimators': 155, 'learning_rate': 0.0016036906426344988, 'max_depth': 5}. Best is trial 2 with value: 0.6510893590148406.\n",
      "[I 2025-03-14 22:52:28,003] Trial 9 finished with value: 0.6011998736975055 and parameters: {'n_estimators': 267, 'learning_rate': 0.008985792616106974, 'max_depth': 7}. Best is trial 2 with value: 0.6510893590148406.\n",
      "[I 2025-03-14 22:56:37,515] Trial 10 finished with value: 0.7284496368803284 and parameters: {'n_estimators': 298, 'learning_rate': 0.09790139126590415, 'max_depth': 8}. Best is trial 10 with value: 0.7284496368803284.\n",
      "[I 2025-03-14 23:00:39,857] Trial 11 finished with value: 0.724029049573729 and parameters: {'n_estimators': 295, 'learning_rate': 0.09617158157996077, 'max_depth': 8}. Best is trial 10 with value: 0.7284496368803284.\n",
      "[I 2025-03-14 23:03:59,479] Trial 12 finished with value: 0.7237132933375434 and parameters: {'n_estimators': 213, 'learning_rate': 0.08553994602796447, 'max_depth': 9}. Best is trial 10 with value: 0.7284496368803284.\n",
      "[I 2025-03-14 23:08:07,796] Trial 13 finished with value: 0.7224502683928008 and parameters: {'n_estimators': 294, 'learning_rate': 0.07882689630597497, 'max_depth': 8}. Best is trial 10 with value: 0.7284496368803284.\n",
      "[I 2025-03-14 23:11:38,381] Trial 14 finished with value: 0.6034101673508052 and parameters: {'n_estimators': 219, 'learning_rate': 0.008569564374210054, 'max_depth': 9}. Best is trial 10 with value: 0.7284496368803284.\n",
      "2025/03/14 23:16:14 WARNING mlflow.utils.environment: Encountered an unexpected error while inferring pip requirements (model URI: C:\\Users\\PARTHI~1\\AppData\\Local\\Temp\\tmp3d0w76wd\\model\\model.pkl, flavor: sklearn). Fall back to return ['scikit-learn==1.0.2', 'cloudpickle==2.0.0']. Set logging level to DEBUG to see the full traceback. \n",
      "2025/03/14 23:16:14 WARNING mlflow.models.model: Model logged without a signature and input example. Please set `input_example` parameter when logging the model to auto infer the model signature.\n"
     ]
    },
    {
     "name": "stdout",
     "output_type": "stream",
     "text": [
      "🏃 View run XGBoost_SMOTE_TFIDF_Trigrams at: http://ec2-54-173-92-7.compute-1.amazonaws.com:5000/#/experiments/149143573475036011/runs/a026859d8986463f92fc9e426548e122\n",
      "🧪 View experiment at: http://ec2-54-173-92-7.compute-1.amazonaws.com:5000/#/experiments/149143573475036011\n"
     ]
    }
   ],
   "source": [
    "# Step 1: Remap the class labels from [-1, 0, 1] to [2, 0, 1]\n",
    "df['Sentiment'] = df['Sentiment'].map({-1: 2, 0: 0, 1: 1})\n",
    "\n",
    "ngram_range = (1, 3)  # Trigram setting\n",
    "max_features = 8000  # Set max_features to 8000 for TF-IDF\n",
    "\n",
    "# Step 4: Train-test split before vectorization and resampling\n",
    "X_train, X_test, y_train, y_test = train_test_split(df['Comment'], df['Sentiment'], test_size=0.2, random_state=42, stratify=df['Sentiment'])\n",
    "\n",
    "# Step 2: Vectorization using TF-IDF, fit on training data only\n",
    "vectorizer = TfidfVectorizer(ngram_range=ngram_range, max_features=max_features)\n",
    "X_train_vec = vectorizer.fit_transform(X_train)  # Fit on training data\n",
    "X_test_vec = vectorizer.transform(X_test)  # Transform test data\n",
    "\n",
    "smote = SMOTE(random_state=42)\n",
    "X_train_vec, y_train = smote.fit_resample(X_train_vec, y_train)\n",
    "\n",
    "# Function to log results in MLflow\n",
    "def log_mlflow(model_name, model, X_train, X_test, y_train, y_test):\n",
    "    with mlflow.start_run():\n",
    "        # Log model type\n",
    "        mlflow.set_tag(\"mlflow.runName\", f\"{model_name}_SMOTE_TFIDF_Trigrams\")\n",
    "        mlflow.set_tag(\"experiment_type\", \"algorithm_comparison\")\n",
    "\n",
    "        # Log algorithm name as a parameter\n",
    "        mlflow.log_param(\"algo_name\", model_name)\n",
    "\n",
    "        # Train model\n",
    "        model.fit(X_train, y_train)\n",
    "        y_pred = model.predict(X_test)\n",
    "\n",
    "        # Log accuracy\n",
    "        accuracy = accuracy_score(y_test, y_pred)\n",
    "        mlflow.log_metric(\"accuracy\", accuracy)\n",
    "\n",
    "        # Log classification report\n",
    "        classification_rep = classification_report(y_test, y_pred, output_dict=True)\n",
    "        for label, metrics in classification_rep.items():\n",
    "            if isinstance(metrics, dict):\n",
    "                for metric, value in metrics.items():\n",
    "                    mlflow.log_metric(f\"{label}_{metric}\", value)\n",
    "\n",
    "        # Log the model\n",
    "        mlflow.sklearn.log_model(model, f\"{model_name}_model\")\n",
    "\n",
    "\n",
    "# Step 6: Optuna objective function for XGBoost\n",
    "def objective_xgboost(trial):\n",
    "    n_estimators = trial.suggest_int('n_estimators', 50, 300)\n",
    "    learning_rate = trial.suggest_float('learning_rate', 1e-4, 1e-1, log=True)\n",
    "    max_depth = trial.suggest_int('max_depth', 3, 10)\n",
    "\n",
    "    model = XGBClassifier(n_estimators=n_estimators, learning_rate=learning_rate, max_depth=max_depth, random_state=42)\n",
    "    return accuracy_score(y_test, model.fit(X_train_vec, y_train).predict(X_test_vec))\n",
    "\n",
    "\n",
    "# Step 7: Run Optuna for XGBoost, log the best model only\n",
    "def run_optuna_experiment():\n",
    "    study = optuna.create_study(direction=\"maximize\")\n",
    "    study.optimize(objective_xgboost, n_trials=15)\n",
    "\n",
    "    # Get the best parameters and log only the best model\n",
    "    best_params = study.best_params\n",
    "    best_model = XGBClassifier(n_estimators=best_params['n_estimators'], learning_rate=best_params['learning_rate'], max_depth=best_params['max_depth'], random_state=42)\n",
    "\n",
    "    # Log the best model with MLflow, passing the algo_name as \"xgboost\"\n",
    "    log_mlflow(\"XGBoost\", best_model, X_train_vec, X_test_vec, y_train, y_test)\n",
    "\n",
    "# Run the experiment for XGBoost\n",
    "run_optuna_experiment()\n"
   ]
  },
  {
   "cell_type": "code",
   "execution_count": null,
   "metadata": {},
   "outputs": [],
   "source": []
  }
 ],
 "metadata": {
  "kernelspec": {
   "display_name": "base",
   "language": "python",
   "name": "python3"
  },
  "language_info": {
   "codemirror_mode": {
    "name": "ipython",
    "version": 3
   },
   "file_extension": ".py",
   "mimetype": "text/x-python",
   "name": "python",
   "nbconvert_exporter": "python",
   "pygments_lexer": "ipython3",
   "version": "3.9.12"
  }
 },
 "nbformat": 4,
 "nbformat_minor": 2
}
